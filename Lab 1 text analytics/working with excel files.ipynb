{
 "cells": [
  {
   "cell_type": "code",
   "execution_count": 1,
   "id": "ddc93316",
   "metadata": {},
   "outputs": [],
   "source": [
    "import pandas as pd\n",
    "# Define the Excel file name\n",
    "\n",
    "excel_file = 'sample_data.xlsx'\n",
    "# Define the output text file name\n",
    "\n",
    "output_file = 'comments.txt'\n",
    "# Read the Excel file\n",
    "\n",
    "df = pd.read_excel(excel_file)\n",
    "# Extract the 'comments' column\n",
    "\n",
    "comments = df['comments']\n",
    "# Open the output text file for writing\n",
    "\n",
    "with open(output_file, 'w') as txtfile:\n",
    "# Write each comment to the text file\n",
    "    for comment in comments:\n",
    "        txtfile.write(str(comment) + '\\n')\n"
   ]
  },
  {
   "cell_type": "code",
   "execution_count": 2,
   "id": "add9c2e0",
   "metadata": {},
   "outputs": [
    {
     "name": "stdout",
     "output_type": "stream",
     "text": [
      "Comments extracted and saved to comments.txt\n"
     ]
    }
   ],
   "source": [
    "print(\"Comments extracted and saved to\", output_file)"
   ]
  },
  {
   "cell_type": "code",
   "execution_count": null,
   "id": "a7df43bf",
   "metadata": {},
   "outputs": [],
   "source": []
  }
 ],
 "metadata": {
  "kernelspec": {
   "display_name": "Python 3 (ipykernel)",
   "language": "python",
   "name": "python3"
  },
  "language_info": {
   "codemirror_mode": {
    "name": "ipython",
    "version": 3
   },
   "file_extension": ".py",
   "mimetype": "text/x-python",
   "name": "python",
   "nbconvert_exporter": "python",
   "pygments_lexer": "ipython3",
   "version": "3.11.5"
  }
 },
 "nbformat": 4,
 "nbformat_minor": 5
}
